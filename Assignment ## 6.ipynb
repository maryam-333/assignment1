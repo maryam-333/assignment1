{
 "cells": [
  {
   "cell_type": "code",
   "execution_count": null,
   "metadata": {},
   "outputs": [],
   "source": [
    "OBJECT ORIENTED PROGRAME:\n",
    "\n",
    "bject-oriented programming is one of the most effective approaches to writing software.\n",
    "In object-oriented programming you write classes that represent real-world things and \n",
    "situations, and you create objects based on these classes."
   ]
  },
  {
   "cell_type": "code",
   "execution_count": null,
   "metadata": {},
   "outputs": [],
   "source": [
    "BENEFITS OF OOP:\n",
    "1:Re-usability It means reusing some facilities rather than building it again and again. \n",
    "This is done with the use of a class. We can use it ‘n’ number of times as per our need.\n",
    "2:Code Maintenance This feature is more of a necessity for any programming languages, \n",
    "it helps users from doing re-work in many ways. It is always easy and time-saving to\n",
    "maintain and modify the existing codes with incorporating new changes into it.\n",
    "3:Problems solving Decomposing a complex problem into smaller chunks or discrete\n",
    "components is a good practice. OOP is specialized in this behavior, as it breaks \n",
    "down your software code into bite-sized – one object at a time. In doing this the\n",
    "broken components can be reused in solutions to different other problems (both less\n",
    "and more complex) or either they can be replaced by the future modules which relate \n",
    "to the same interface with implementations details."
   ]
  },
  {
   "cell_type": "code",
   "execution_count": null,
   "metadata": {},
   "outputs": [],
   "source": [
    "function describes the behaviour of the model, they donot have any varable. methods are called by variables"
   ]
  },
  {
   "cell_type": "code",
   "execution_count": null,
   "metadata": {},
   "outputs": [],
   "source": [
    "CLASS:\n",
    "    \n",
    "    It is a template or blue print about the capability of what an object do\n",
    "\n",
    "OBJECT:\n",
    "    \n",
    "        \n",
    "        An object is nothing but a self-contained component which consists of methods and properties to make\n",
    "        a particular type of data useful. Object determines the behavior of the class. When you send a message to \n",
    "        an object, you are asking the object to invoke or execute one of its methods.From a programming point of view,\n",
    "        an object can be a data structure, a variable or a function. It has a memory location allocated. The object is\n",
    "        designed as class hierarchies\n",
    "        \n",
    "BEHAVIOR:\n",
    "    \n",
    "    behaviour is the way the object can do anything.\n",
    "    \n",
    "    \n",
    "CLASS:\n",
    "    \n",
    "    A class is an entity that determines how an object will behave and what the object will contain. In other words,\n",
    "    it is a blueprint or a set of instruction to build a specific type of object.\n",
    "    "
   ]
  },
  {
   "cell_type": "code",
   "execution_count": 1,
   "metadata": {},
   "outputs": [
    {
     "name": "stdout",
     "output_type": "stream",
     "text": [
      "honda grey 900.\n",
      "prado white  2019.\n"
     ]
    }
   ],
   "source": [
    "class car:\n",
    "    def __init__(self, name):\n",
    "        self.name = name\n",
    "\n",
    "    def mehran(self):\n",
    "        print(self.name + \" grey 900.\")\n",
    "\n",
    "    def pa(self):\n",
    "        print(self.name + \" white  2019.\")\n",
    "\n",
    "def main():\n",
    "    H = car(\"honda\")\n",
    "    H.mehran()\n",
    "    K = car(\"prado\")\n",
    "    K.pa()\n",
    "\n",
    "if __name__ == \"__main__\":\n",
    "  main()\n"
   ]
  },
  {
   "cell_type": "code",
   "execution_count": null,
   "metadata": {},
   "outputs": [],
   "source": []
  }
 ],
 "metadata": {
  "kernelspec": {
   "display_name": "Python 3",
   "language": "python",
   "name": "python3"
  },
  "language_info": {
   "codemirror_mode": {
    "name": "ipython",
    "version": 3
   },
   "file_extension": ".py",
   "mimetype": "text/x-python",
   "name": "python",
   "nbconvert_exporter": "python",
   "pygments_lexer": "ipython3",
   "version": "3.7.4"
  }
 },
 "nbformat": 4,
 "nbformat_minor": 2
}
