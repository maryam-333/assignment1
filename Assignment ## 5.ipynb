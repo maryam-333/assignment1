{
 "cells": [
  {
   "cell_type": "code",
   "execution_count": 1,
   "metadata": {
    "scrolled": false
   },
   "outputs": [
    {
     "name": "stdout",
     "output_type": "stream",
     "text": [
      "Enter the number6\n"
     ]
    },
    {
     "data": {
      "text/plain": [
       "720"
      ]
     },
     "execution_count": 1,
     "metadata": {},
     "output_type": "execute_result"
    }
   ],
   "source": [
    "def fact(num):\n",
    "    f = 1\n",
    "    for s in range(num -1):\n",
    "        f = f * (num - s)\n",
    "    return f\n",
    "\n",
    "num = int(input(\"Enter the number\" ))\n",
    "fact(num)\n",
    "    "
   ]
  },
  {
   "cell_type": "code",
   "execution_count": 2,
   "metadata": {},
   "outputs": [
    {
     "name": "stdout",
     "output_type": "stream",
     "text": [
      "2\n",
      "4\n",
      "6\n",
      "8\n"
     ]
    }
   ],
   "source": [
    "def even(list):\n",
    "    for num in list:\n",
    "        if num %2 == 0:\n",
    "            print(num)\n",
    "list = [1,2,3,4,5,6,7,8,9]           \n",
    "even(list)"
   ]
  },
  {
   "cell_type": "code",
   "execution_count": 3,
   "metadata": {},
   "outputs": [
    {
     "name": "stdout",
     "output_type": "stream",
     "text": [
      "enter a string: Maryam Ismail\n"
     ]
    },
    {
     "data": {
      "text/plain": [
       "{'uppercase': 2, 'lowercase': 10}"
      ]
     },
     "execution_count": 3,
     "metadata": {},
     "output_type": "execute_result"
    }
   ],
   "source": [
    "def functa(string):\n",
    "    uppercase = 0\n",
    "    lowercase = 0\n",
    "    for a in string:\n",
    "        if a.islower() == True:\n",
    "            lowercase = lowercase + 1 \n",
    "        elif a.isupper() == True:\n",
    "            uppercase = uppercase + 1\n",
    "    return {\"uppercase\":uppercase,\"lowercase\":lowercase}\n",
    "string = input(\"enter a string: \" )\n",
    "functa(string) "
   ]
  },
  {
   "cell_type": "code",
   "execution_count": 4,
   "metadata": {},
   "outputs": [
    {
     "name": "stdout",
     "output_type": "stream",
     "text": [
      "Enter Palindrome: madam\n",
      "This string is palindrome\n"
     ]
    }
   ],
   "source": [
    "def checkPaln(string):\n",
    "    if(string==string[::-1]):\n",
    "        print(\"This string is palindrome\")\n",
    "    else:\n",
    "        print(\"This string is Not palindrome\")\n",
    "        \n",
    "\n",
    "string= input(\"Enter Palindrome: \")\n",
    "checkPaln(string)\n",
    "    "
   ]
  },
  {
   "cell_type": "code",
   "execution_count": 5,
   "metadata": {},
   "outputs": [
    {
     "name": "stdout",
     "output_type": "stream",
     "text": [
      "Enter number to check prime: 7\n",
      "7 is a prime number\n"
     ]
    }
   ],
   "source": [
    "def checkPrime(num):\n",
    "    if num > 1:\n",
    "        for i in range(2,num):\n",
    "            if (num % i) == 0:\n",
    "                print(num,\"is not a prime number\")\n",
    "                print(i,\"times\",num//i,\"is\",num)\n",
    "                break\n",
    "        else:\n",
    "            print(num,\"is a prime number\")\n",
    "\n",
    "\n",
    "    else:\n",
    "        print(num,\"is not a prime number\")\n",
    "\n",
    "number = int(input(\"Enter number to check prime: \"));\n",
    "checkPrime(number);\n"
   ]
  },
  {
   "cell_type": "code",
   "execution_count": 6,
   "metadata": {},
   "outputs": [
    {
     "name": "stdout",
     "output_type": "stream",
     "text": [
      "----Enter Item List and Enter bye for End----\n",
      "\n",
      "Enter item: apple \n",
      "Enter item: maango\n",
      "Enter item: stop\n",
      "maryam ismail  Purchase this item : apple \n",
      "maryam ismail  Purchase this item : maango\n"
     ]
    }
   ],
   "source": [
    "def marketlist(itemList,name):\n",
    "    for item in itemList:\n",
    "        print(name + \" Purchase this item : \"+item )\n",
    "\n",
    "itemList = []\n",
    "print(\"----Enter Item List and Enter bye for End----\\n\")\n",
    "while True:\n",
    "    item = input(\"Enter item: \")\n",
    "    if item == 'stop':\n",
    "        break;\n",
    "    itemList.append(item)\n",
    "marketlist(itemList,name=\"maryam ismail \")"
   ]
  },
  {
   "cell_type": "code",
   "execution_count": null,
   "metadata": {},
   "outputs": [],
   "source": []
  }
 ],
 "metadata": {
  "kernelspec": {
   "display_name": "Python 3",
   "language": "python",
   "name": "python3"
  },
  "language_info": {
   "codemirror_mode": {
    "name": "ipython",
    "version": 3
   },
   "file_extension": ".py",
   "mimetype": "text/x-python",
   "name": "python",
   "nbconvert_exporter": "python",
   "pygments_lexer": "ipython3",
   "version": "3.7.4"
  }
 },
 "nbformat": 4,
 "nbformat_minor": 2
}
