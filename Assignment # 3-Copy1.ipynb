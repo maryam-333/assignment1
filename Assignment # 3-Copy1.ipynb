{
 "cells": [
  {
   "cell_type": "code",
   "execution_count": 1,
   "metadata": {},
   "outputs": [
    {
     "name": "stdout",
     "output_type": "stream",
     "text": [
      "Enter first value 3\n",
      "Enter second value 3\n",
      "Enter operator**\n",
      "27 answere\n"
     ]
    }
   ],
   "source": [
    "value1 = int(input('Enter first value '))\n",
    "value2 = int(input('Enter second value '))\n",
    "operator = input('Enter operator')\n",
    "\n",
    "if operator == '+':\n",
    "    val = value1 + value2\n",
    "    print(val,'answere')\n",
    "if operator == '-':\n",
    "    val = value1 - value2\n",
    "    print(val,'answere')\n",
    "if operator == '*':\n",
    "    val = val1 * val2\n",
    "    print(val,'answere')\n",
    "if operator == '/':\n",
    "    val = val1 / val2\n",
    "    print(val,'answere')\n",
    "if operator == '**':\n",
    "    val = val1 ** val2\n",
    "    print(val,'answere')\n",
    "else:\n",
    "    print('correct operator ')\n"
   ]
  },
  {
   "cell_type": "code",
   "execution_count": 1,
   "metadata": {},
   "outputs": [
    {
     "data": {
      "text/plain": [
       "['1', '2', '3', '4', '1.5', '2.6', '4']"
      ]
     },
     "execution_count": 1,
     "metadata": {},
     "output_type": "execute_result"
    }
   ],
   "source": [
    "from ast import literal_eval\n",
    "def solve(lis):\n",
    "    for x in lis:\n",
    "        try:\n",
    "            literal_eval(x)\n",
    "            return True\n",
    "        except ValueError:\n",
    "            return False\n",
    "          \n",
    "mylist=['1','orange','2','3','4','apple', '1.5', '2.6', '4']\n",
    "[x for x in mylist if solve(x)]       "
   ]
  },
  {
   "cell_type": "code",
   "execution_count": 5,
   "metadata": {},
   "outputs": [
    {
     "name": "stdout",
     "output_type": "stream",
     "text": [
      "{0: 10, 1: 20}\n",
      "{0: 10, 1: 20, 2: 30}\n"
     ]
    }
   ],
   "source": [
    "dict = {0:10, 1:20}\n",
    "print(dict)\n",
    "dict.update({2:30})\n",
    "print(dict)"
   ]
  },
  {
   "cell_type": "code",
   "execution_count": 3,
   "metadata": {},
   "outputs": [
    {
     "name": "stdout",
     "output_type": "stream",
     "text": [
      "293\n"
     ]
    }
   ],
   "source": [
    "my_dict = {'data1':100,'data2':-54,'data3':247}\n",
    "print(sum(my_dict.values()))"
   ]
  },
  {
   "cell_type": "code",
   "execution_count": 4,
   "metadata": {},
   "outputs": [
    {
     "name": "stdout",
     "output_type": "stream",
     "text": [
      "[3, 9, 12]\n"
     ]
    }
   ],
   "source": [
    "lst = [ 3, 6, 9, 12, 3, 30, 15, 9, 45, 36, 12, 12]\n",
    "dupItems = []\n",
    "uniqItems = {}\n",
    "for x in lst:\n",
    "   if x not in uniqItems:\n",
    "      uniqItems[x] = 1\n",
    "   else:\n",
    "      if uniqItems[x] == 1:\n",
    "         dupItems.append(x)\n",
    "      uniqItems[x] += 1\n",
    "print(dupItems)"
   ]
  },
  {
   "cell_type": "code",
   "execution_count": 2,
   "metadata": {},
   "outputs": [
    {
     "name": "stdout",
     "output_type": "stream",
     "text": [
      "enter the value: 3\n",
      "key is present in the dictionary\n"
     ]
    }
   ],
   "source": [
    "entry = int(input('enter the value: '))\n",
    "d = {1: 10, 2: 20, 3: 30, 4: 40, 5: 50, 6: 60}\n",
    "\n",
    "if entry in d.keys():\n",
    "    print('key is present in the dictionary')\n",
    "else:\n",
    "    print('key is not present in the dictionary')"
   ]
  }
 ],
 "metadata": {
  "kernelspec": {
   "display_name": "Python 3",
   "language": "python",
   "name": "python3"
  },
  "language_info": {
   "codemirror_mode": {
    "name": "ipython",
    "version": 3
   },
   "file_extension": ".py",
   "mimetype": "text/x-python",
   "name": "python",
   "nbconvert_exporter": "python",
   "pygments_lexer": "ipython3",
   "version": "3.7.4"
  }
 },
 "nbformat": 4,
 "nbformat_minor": 2
}
