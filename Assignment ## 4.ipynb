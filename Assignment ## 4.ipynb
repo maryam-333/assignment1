{
 "cells": [
  {
   "cell_type": "code",
   "execution_count": 1,
   "metadata": {},
   "outputs": [
    {
     "name": "stdout",
     "output_type": "stream",
     "text": [
      "{'first_name': 'maryam', 'last_name': 'ismail', 'age': '18', 'city': 'karachi', 'qualification': 'matric'}\n",
      "{'first_name': 'maryam', 'last_name': 'ismail', 'age': '18', 'city': 'karachi', 'qualification': 'intermediate'}\n",
      "{'first_name': 'maryam', 'last_name': 'ismail', 'age': '18', 'city': 'karachi'}\n"
     ]
    }
   ],
   "source": [
    "information = {\n",
    "    \"first_name\": \"maryam\",\n",
    "    \"last_name\": \"ismail\",\n",
    "    \"age\": \"18\",\n",
    "    \"city\": \"karachi\",\n",
    "    \"qualification\": \"matric\"\n",
    "}\n",
    "print(information)\n",
    "information[\"qualification\"] = \"intermediate\"\n",
    "print(information)\n",
    "del information [\"qualification\"]\n",
    "print(information)"
   ]
  },
  {
   "cell_type": "code",
   "execution_count": 2,
   "metadata": {},
   "outputs": [
    {
     "name": "stdout",
     "output_type": "stream",
     "text": [
      "Karachi\n",
      "country Pakistan\n",
      "population 15.741,000 millon\n",
      "fact karachi is the sixth largest city in the world.\n",
      "Lahore\n",
      "country Pakistan\n",
      "population 12,188,000\n",
      "fact Old Lahore city was surrounded with giant walls and had 12 big doors. Roshnai Gate is believed to be the starting point of the walled City of Lahore.\n",
      "Islamabad\n",
      "country Pakistan\n",
      "population 1,095,000\n",
      "fact Islamabad is the capital of the top adventurous place Pakistan.\n"
     ]
    }
   ],
   "source": [
    "cities = {\n",
    "    \"Karachi\":{\n",
    "        \"country\": \"Pakistan\",\n",
    "        \"population\": \"15.741,000 millon\",\n",
    "        \"fact\": \"karachi is the sixth largest city in the world.\"\n",
    "\n",
    "},\n",
    "    \"Lahore\":{\n",
    "        \"country\": \"Pakistan\",\n",
    "        \"population\": \"12,188,000\",\n",
    "        \"fact\": \"Old Lahore city was surrounded with giant walls and had 12 big doors. Roshnai Gate is believed to be the starting point of the walled City of Lahore.\",\n",
    "        \n",
    "},\n",
    "    \"Islamabad\":{\n",
    "        \"country\": \"Pakistan\",\n",
    "        \"population\": \"1,095,000\",\n",
    "        \"fact\": \"Islamabad is the capital of the top adventurous place Pakistan.\",\n",
    "\n",
    "}    \n",
    "}\n",
    "    \n",
    "for city_name, city_info in cities.items():\n",
    "    print(city_name)\n",
    "    for city_info_key , city_info_value in city_info.items():\n",
    "        print(city_info_key ,city_info_value)\n",
    "\n",
    "\n",
    " \n"
   ]
  },
  {
   "cell_type": "code",
   "execution_count": 3,
   "metadata": {},
   "outputs": [
    {
     "name": "stdout",
     "output_type": "stream",
     "text": [
      "what is your age: 7\n",
      "your ticket is $10\n"
     ]
    }
   ],
   "source": [
    "while True:\n",
    "    age = int(input(\"what is your age: \"))\n",
    "    if age <=3:\n",
    "        print(\"your ticket is free\")\n",
    "        break\n",
    "    if age >3 and age <=12:\n",
    "        print(\"your ticket is $10\")\n",
    "        break\n",
    "    if age > 12:\n",
    "        print(\"your ticket is $15\")\n",
    "        break"
   ]
  },
  {
   "cell_type": "code",
   "execution_count": 4,
   "metadata": {},
   "outputs": [
    {
     "name": "stdout",
     "output_type": "stream",
     "text": [
      "One of my favourite books is :  Alice in Wonderland\n"
     ]
    }
   ],
   "source": [
    "def favorite_book(title):\n",
    "    print(\"One of my favourite books is : \",title)\n",
    "    return None\n",
    "favorite_book('Alice in Wonderland')"
   ]
  },
  {
   "cell_type": "code",
   "execution_count": 5,
   "metadata": {},
   "outputs": [
    {
     "name": "stdout",
     "output_type": "stream",
     "text": [
      "WELCOME HERE TO CHECK YOUR LUCK\n",
      "Enter One Number which is between 1 to 30 20\n",
      "Your input is wrong and the random number was 30\n",
      "Enter One Number which is between 1 to 30 3\n",
      "Your input is wrong and the random number was 2\n",
      "Enter One Number which is between 1 to 30 2\n",
      "Your input is wrong and the random number was 7\n",
      "Your total score is 0\n"
     ]
    }
   ],
   "source": [
    "import random\n",
    "print(\"WELCOME HERE TO CHECK YOUR LUCK\")\n",
    "total_score = 0\n",
    "Flag = False\n",
    "for x in range(0,3):\n",
    "    number = random.randint(1, 30)\n",
    "    user_number =input(\"Enter One Number which is between 1 to 30 \")\n",
    "    if  str(user_number) == str(number):\n",
    "        total_score += 10\n",
    "        Flag = True\n",
    "    if(Flag):\n",
    "        print(\"Random Number is generated \" + str(number) + \" and Your number is \"+ str(user_number))\n",
    "        \n",
    "    else:\n",
    "        print(\"Your input is wrong and the random number was \" + str(number))\n",
    "print(\"Your total score is \" + str(total_score))"
   ]
  },
  {
   "cell_type": "code",
   "execution_count": 7,
   "metadata": {},
   "outputs": [
    {
     "name": "stdout",
     "output_type": "stream",
     "text": [
      "================HINT================\n",
      "try a number between 15 and 20\n",
      "enter your guess: 16\n",
      "try a number samller than : 16\n",
      "enter your guess: 15\n",
      "your guess is right\n"
     ]
    }
   ],
   "source": [
    "import random\n",
    "hidden = random.randint(1,30) \n",
    "def hint(hidden):\n",
    "    print(\"================HINT================\")\n",
    "    if hidden>= 1 and hidden < 5:\n",
    "        print(\"try a number between 1 and 5\")\n",
    "    elif hidden >= 5 and hidden < 10:\n",
    "        print(\"try a number between 5 and 10\")\n",
    "    elif hidden >= 10 and hidden < 15:\n",
    "        print(\"try a number between 10 and 20\")\n",
    "    elif hidden >= 15 and hidden < 20:\n",
    "        print(\"try a number between 15 and 20\")\n",
    "    elif hidden >= 20 and hidden < 25:\n",
    "        print(\"try a number between 20 and 35\")\n",
    "    elif hidden >= 25 and hidden <= 30:\n",
    "        print(\"try a number between 25 and 30\")\n",
    "    return None\n",
    "def userhint(user,hidden):\n",
    "    if hidden > user:\n",
    "        print(\"try a number graterthan : {}\".format(user))\n",
    "    elif hidden < user:\n",
    "        print(\"try a number samller than : {}\".format(user))\n",
    "    return None\n",
    "\n",
    "hint(hidden)\n",
    "for i in range(0,3):\n",
    "    user = int(input(\"enter your guess: \"))\n",
    "    userhint(user,hidden)\n",
    "    if user == hidden:\n",
    "        print(\"your guess is right\")\n",
    "        break\n",
    "        "
   ]
  },
  {
   "cell_type": "code",
   "execution_count": null,
   "metadata": {},
   "outputs": [],
   "source": []
  }
 ],
 "metadata": {
  "kernelspec": {
   "display_name": "Python 3",
   "language": "python",
   "name": "python3"
  },
  "language_info": {
   "codemirror_mode": {
    "name": "ipython",
    "version": 3
   },
   "file_extension": ".py",
   "mimetype": "text/x-python",
   "name": "python",
   "nbconvert_exporter": "python",
   "pygments_lexer": "ipython3",
   "version": "3.7.4"
  }
 },
 "nbformat": 4,
 "nbformat_minor": 2
}
