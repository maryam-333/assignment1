{
 "cells": [
  {
   "cell_type": "code",
   "execution_count": 6,
   "metadata": {},
   "outputs": [
    {
     "name": "stdout",
     "output_type": "stream",
     "text": [
      "Enter name: MARYAM\n",
      "Enter mathematic marks: 89\n",
      "Enter physics marks: 78\n",
      "Enter chemistry marks: 67\n",
      "Enter english marks: 56\n",
      "Enter urdu marks: 89\n",
      "75.8\n",
      "grade: A\n"
     ]
    }
   ],
   "source": [
    "name = input(\"Enter name: \")\n",
    "mathematic = int(input(\"Enter mathematic marks: \"))\n",
    "physics = int(input(\"Enter physics marks: \"))\n",
    "chemistry = int(input(\"Enter chemistry marks: \"))\n",
    "english = int(input(\"Enter english marks: \"))\n",
    "urdu = int(input(\"Enter urdu marks: \"))\n",
    "obtained_marks = mathematic + physics + chemistry + english + urdu\n",
    "percentage = (obtained_marks / 500) * 100\n",
    "print(percentage)\n",
    "           \n",
    "if percentage >= 80:\n",
    "           print(\"grade: A-1\")\n",
    "elif percentage >= 70:\n",
    "           print(\"grade: A\")\n",
    "elif percentage >= 60:\n",
    "           print(\"grade: B\")\n",
    "elif percentage >= 50:\n",
    "           print(\"grade: C\")\n",
    "elif percentage >= 40:\n",
    "           print(\"grade: D\")\n",
    "else:\n",
    "     print(\"grade: F\")\n",
    "          \n"
   ]
  },
  {
   "cell_type": "code",
   "execution_count": 7,
   "metadata": {},
   "outputs": [
    {
     "name": "stdout",
     "output_type": "stream",
     "text": [
      "Enter the value 3\n",
      "This is an even number.\n"
     ]
    }
   ],
   "source": [
    "nums = int(input(\"Enter the value \"))\n",
    "mod = nums % 2\n",
    "if mod > 0:\n",
    "    print(\"This is an even number.\")\n",
    "else:\n",
    "    print(\"This is an odd number.\")"
   ]
  },
  {
   "cell_type": "code",
   "execution_count": 8,
   "metadata": {},
   "outputs": [
    {
     "data": {
      "text/plain": [
       "6"
      ]
     },
     "execution_count": 8,
     "metadata": {},
     "output_type": "execute_result"
    }
   ],
   "source": [
    "nums = [1,4,6,7,0,3]\n",
    "len(nums)"
   ]
  },
  {
   "cell_type": "code",
   "execution_count": 9,
   "metadata": {},
   "outputs": [
    {
     "data": {
      "text/plain": [
       "193"
      ]
     },
     "execution_count": 9,
     "metadata": {},
     "output_type": "execute_result"
    }
   ],
   "source": [
    "nums = [25,77,29,12,14,36]\n",
    "sum(nums)"
   ]
  },
  {
   "cell_type": "code",
   "execution_count": 10,
   "metadata": {},
   "outputs": [
    {
     "data": {
      "text/plain": [
       "90"
      ]
     },
     "execution_count": 10,
     "metadata": {},
     "output_type": "execute_result"
    }
   ],
   "source": [
    "nums = [25,57,90,34,15,36]\n",
    "max(nums)"
   ]
  },
  {
   "cell_type": "code",
   "execution_count": 11,
   "metadata": {},
   "outputs": [
    {
     "name": "stdout",
     "output_type": "stream",
     "text": [
      "[1, 1, 2, 3]\n"
     ]
    }
   ],
   "source": [
    "a = [1,1,2,3,5,8,13,21,34,55,89]\n",
    "del a [4:]\n",
    "print(a)"
   ]
  },
  {
   "cell_type": "code",
   "execution_count": null,
   "metadata": {},
   "outputs": [],
   "source": []
  }
 ],
 "metadata": {
  "kernelspec": {
   "display_name": "Python 3",
   "language": "python",
   "name": "python3"
  },
  "language_info": {
   "codemirror_mode": {
    "name": "ipython",
    "version": 3
   },
   "file_extension": ".py",
   "mimetype": "text/x-python",
   "name": "python",
   "nbconvert_exporter": "python",
   "pygments_lexer": "ipython3",
   "version": "3.7.4"
  }
 },
 "nbformat": 4,
 "nbformat_minor": 2
}
